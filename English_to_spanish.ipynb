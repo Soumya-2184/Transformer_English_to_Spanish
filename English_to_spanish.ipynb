{
  "cells": [
    {
      "cell_type": "markdown",
      "metadata": {
        "id": "view-in-github",
        "colab_type": "text"
      },
      "source": [
        "<a href=\"https://colab.research.google.com/github/Soumya-2184/Transformer_English_to_Spanish/blob/main/English_to_spanish.ipynb\" target=\"_parent\"><img src=\"https://colab.research.google.com/assets/colab-badge.svg\" alt=\"Open In Colab\"/></a>"
      ]
    },
    {
      "cell_type": "code",
      "execution_count": null,
      "metadata": {
        "id": "5xBbzG2EjOJG"
      },
      "outputs": [],
      "source": [
        "class Config:\n",
        "    vocab_size = 16000 # Vocabulary Size\n",
        "    sequence_length = 20\n",
        "    batch_size = 256\n",
        "    validation_split = 0.15\n",
        "    embed_dim = 256\n",
        "    latent_dim = 256\n",
        "    num_heads = 8\n",
        "    epochs = 30 # Number of Epochs to train\n",
        "    is_training = False\n",
        "config = Config()"
      ]
    },
    {
      "cell_type": "code",
      "execution_count": null,
      "metadata": {
        "id": "uWwUQgtsjR77"
      },
      "outputs": [],
      "source": [
        "import os\n",
        "import pandas as pd\n",
        "import torch\n",
        "import numpy as np\n",
        "from torch.utils.data import Dataset, DataLoader\n",
        "\n",
        "data = pd.read_csv(r\"C:\\Users\\soumy\\OneDrive\\Documents\\data.csv\")"
      ]
    },
    {
      "cell_type": "code",
      "execution_count": null,
      "metadata": {
        "colab": {
          "base_uri": "https://localhost:8080/",
          "height": 424
        },
        "id": "5NzHDp2_jXyp",
        "outputId": "03638596-d55e-4726-c165-131a495a7b56"
      },
      "outputs": [
        {
          "data": {
            "text/html": [
              "<div>\n",
              "<style scoped>\n",
              "    .dataframe tbody tr th:only-of-type {\n",
              "        vertical-align: middle;\n",
              "    }\n",
              "\n",
              "    .dataframe tbody tr th {\n",
              "        vertical-align: top;\n",
              "    }\n",
              "\n",
              "    .dataframe thead th {\n",
              "        text-align: right;\n",
              "    }\n",
              "</style>\n",
              "<table border=\"1\" class=\"dataframe\">\n",
              "  <thead>\n",
              "    <tr style=\"text-align: right;\">\n",
              "      <th></th>\n",
              "      <th>english</th>\n",
              "      <th>spanish</th>\n",
              "    </tr>\n",
              "  </thead>\n",
              "  <tbody>\n",
              "    <tr>\n",
              "      <th>0</th>\n",
              "      <td>Go.</td>\n",
              "      <td>Ve.</td>\n",
              "    </tr>\n",
              "    <tr>\n",
              "      <th>1</th>\n",
              "      <td>Go.</td>\n",
              "      <td>Vete.</td>\n",
              "    </tr>\n",
              "    <tr>\n",
              "      <th>2</th>\n",
              "      <td>Go.</td>\n",
              "      <td>Vaya.</td>\n",
              "    </tr>\n",
              "    <tr>\n",
              "      <th>3</th>\n",
              "      <td>Go.</td>\n",
              "      <td>Váyase.</td>\n",
              "    </tr>\n",
              "    <tr>\n",
              "      <th>4</th>\n",
              "      <td>Hi.</td>\n",
              "      <td>Hola.</td>\n",
              "    </tr>\n",
              "    <tr>\n",
              "      <th>...</th>\n",
              "      <td>...</td>\n",
              "      <td>...</td>\n",
              "    </tr>\n",
              "    <tr>\n",
              "      <th>118959</th>\n",
              "      <td>There are four main causes of alcohol-related ...</td>\n",
              "      <td>Hay cuatro causas principales de muertes relac...</td>\n",
              "    </tr>\n",
              "    <tr>\n",
              "      <th>118960</th>\n",
              "      <td>There are mothers and fathers who will lie awa...</td>\n",
              "      <td>Hay madres y padres que se quedan despiertos d...</td>\n",
              "    </tr>\n",
              "    <tr>\n",
              "      <th>118961</th>\n",
              "      <td>A carbon footprint is the amount of carbon dio...</td>\n",
              "      <td>Una huella de carbono es la cantidad de contam...</td>\n",
              "    </tr>\n",
              "    <tr>\n",
              "      <th>118962</th>\n",
              "      <td>Since there are usually multiple websites on a...</td>\n",
              "      <td>Como suele haber varias páginas web sobre cual...</td>\n",
              "    </tr>\n",
              "    <tr>\n",
              "      <th>118963</th>\n",
              "      <td>If you want to sound like a native speaker, yo...</td>\n",
              "      <td>Si quieres sonar como un hablante nativo, debe...</td>\n",
              "    </tr>\n",
              "  </tbody>\n",
              "</table>\n",
              "<p>118964 rows × 2 columns</p>\n",
              "</div>"
            ],
            "text/plain": [
              "                                                  english  \\\n",
              "0                                                     Go.   \n",
              "1                                                     Go.   \n",
              "2                                                     Go.   \n",
              "3                                                     Go.   \n",
              "4                                                     Hi.   \n",
              "...                                                   ...   \n",
              "118959  There are four main causes of alcohol-related ...   \n",
              "118960  There are mothers and fathers who will lie awa...   \n",
              "118961  A carbon footprint is the amount of carbon dio...   \n",
              "118962  Since there are usually multiple websites on a...   \n",
              "118963  If you want to sound like a native speaker, yo...   \n",
              "\n",
              "                                                  spanish  \n",
              "0                                                     Ve.  \n",
              "1                                                   Vete.  \n",
              "2                                                   Vaya.  \n",
              "3                                                 Váyase.  \n",
              "4                                                   Hola.  \n",
              "...                                                   ...  \n",
              "118959  Hay cuatro causas principales de muertes relac...  \n",
              "118960  Hay madres y padres que se quedan despiertos d...  \n",
              "118961  Una huella de carbono es la cantidad de contam...  \n",
              "118962  Como suele haber varias páginas web sobre cual...  \n",
              "118963  Si quieres sonar como un hablante nativo, debe...  \n",
              "\n",
              "[118964 rows x 2 columns]"
            ]
          },
          "execution_count": 3,
          "metadata": {},
          "output_type": "execute_result"
        }
      ],
      "source": [
        "data"
      ]
    },
    {
      "cell_type": "code",
      "execution_count": null,
      "metadata": {
        "colab": {
          "base_uri": "https://localhost:8080/"
        },
        "id": "LAoBx0wdjYVQ",
        "outputId": "a52b0b2f-769d-419f-9638-14d5265a7248"
      },
      "outputs": [
        {
          "name": "stdout",
          "output_type": "stream",
          "text": [
            "Tensorflow Version:2.10.0\n"
          ]
        }
      ],
      "source": [
        "import pandas as pd\n",
        "import tensorflow as tf\n",
        "from tensorflow.keras.layers import TextVectorization\n",
        "import pathlib\n",
        "import random\n",
        "import string\n",
        "import re\n",
        "import numpy as np\n",
        "from tensorflow import keras\n",
        "from tensorflow.keras import layers\n",
        "import sklearn\n",
        "from sklearn.model_selection import train_test_split\n",
        "print(f\"Tensorflow Version:{tf.__version__}\")"
      ]
    },
    {
      "cell_type": "code",
      "execution_count": null,
      "metadata": {
        "id": "ZEmsPTBrjZHK"
      },
      "outputs": [],
      "source": [
        "data[\"spanish\"] = data[\"spanish\"].apply(lambda item: \"[start] \" + item + \" [end]\")"
      ]
    },
    {
      "cell_type": "code",
      "execution_count": null,
      "metadata": {
        "colab": {
          "base_uri": "https://localhost:8080/",
          "height": 206
        },
        "id": "ly-f48FKjY8w",
        "outputId": "68213f3a-5572-4b6b-d5d1-f22c679f7050"
      },
      "outputs": [
        {
          "data": {
            "text/html": [
              "<div>\n",
              "<style scoped>\n",
              "    .dataframe tbody tr th:only-of-type {\n",
              "        vertical-align: middle;\n",
              "    }\n",
              "\n",
              "    .dataframe tbody tr th {\n",
              "        vertical-align: top;\n",
              "    }\n",
              "\n",
              "    .dataframe thead th {\n",
              "        text-align: right;\n",
              "    }\n",
              "</style>\n",
              "<table border=\"1\" class=\"dataframe\">\n",
              "  <thead>\n",
              "    <tr style=\"text-align: right;\">\n",
              "      <th></th>\n",
              "      <th>english</th>\n",
              "      <th>spanish</th>\n",
              "    </tr>\n",
              "  </thead>\n",
              "  <tbody>\n",
              "    <tr>\n",
              "      <th>0</th>\n",
              "      <td>Go.</td>\n",
              "      <td>[start] Ve. [end]</td>\n",
              "    </tr>\n",
              "    <tr>\n",
              "      <th>1</th>\n",
              "      <td>Go.</td>\n",
              "      <td>[start] Vete. [end]</td>\n",
              "    </tr>\n",
              "    <tr>\n",
              "      <th>2</th>\n",
              "      <td>Go.</td>\n",
              "      <td>[start] Vaya. [end]</td>\n",
              "    </tr>\n",
              "    <tr>\n",
              "      <th>3</th>\n",
              "      <td>Go.</td>\n",
              "      <td>[start] Váyase. [end]</td>\n",
              "    </tr>\n",
              "    <tr>\n",
              "      <th>4</th>\n",
              "      <td>Hi.</td>\n",
              "      <td>[start] Hola. [end]</td>\n",
              "    </tr>\n",
              "  </tbody>\n",
              "</table>\n",
              "</div>"
            ],
            "text/plain": [
              "  english                spanish\n",
              "0     Go.      [start] Ve. [end]\n",
              "1     Go.    [start] Vete. [end]\n",
              "2     Go.    [start] Vaya. [end]\n",
              "3     Go.  [start] Váyase. [end]\n",
              "4     Hi.    [start] Hola. [end]"
            ]
          },
          "execution_count": 6,
          "metadata": {},
          "output_type": "execute_result"
        }
      ],
      "source": [
        "data.head()"
      ]
    },
    {
      "cell_type": "code",
      "execution_count": null,
      "metadata": {
        "colab": {
          "base_uri": "https://localhost:8080/"
        },
        "id": "xfMurHUajY5P",
        "outputId": "0b194a36-0463-4026-b38e-a089339d050f"
      },
      "outputs": [
        {
          "name": "stdout",
          "output_type": "stream",
          "text": [
            "!\"#$%&'()*+,-./:;<=>?@\\^_`{|}~¿\n"
          ]
        }
      ],
      "source": [
        "strip_chars = string.punctuation + \"¿\"\n",
        "strip_chars = strip_chars.replace(\"[\", \"\").replace(\"]\", \"\")\n",
        "print(strip_chars)\n",
        "def spanish_standardize(input_string):\n",
        "    lowercase = tf.strings.lower(input_string)\n",
        "    return tf.strings.regex_replace(lowercase, \"[%s]\"%re.escape(strip_chars), \"\")\n",
        "english_vectorization = TextVectorization(\n",
        "    max_tokens=config.vocab_size,\n",
        "    output_mode=\"int\",\n",
        "    output_sequence_length=config.sequence_length,\n",
        ")\n",
        "spanish_vectorization = TextVectorization(\n",
        "    max_tokens=config.vocab_size,\n",
        "    output_mode=\"int\",\n",
        "    output_sequence_length=config.sequence_length + 1,\n",
        "    standardize=spanish_standardize,\n",
        ")\n",
        "english_vectorization.adapt(list(data[\"english\"]))\n",
        "spanish_vectorization.adapt(list(data[\"spanish\"]))"
      ]
    },
    {
      "cell_type": "code",
      "execution_count": null,
      "metadata": {
        "id": "xhTNnBPRjY3M"
      },
      "outputs": [],
      "source": [
        "def preprocess(english, spanish):\n",
        "    english = english_vectorization(english)\n",
        "    spanish = spanish_vectorization(spanish)\n",
        "    return ({\"encoder_inputs\": english, \"decoder_inputs\": spanish[:, :-1]}, spanish[:, 1:])\n",
        "def make_dataset(df, batch_size, mode):\n",
        "    dataset = tf.data.Dataset.from_tensor_slices((list(df[\"english\"]), list(df[\"spanish\"])))\n",
        "    if mode == \"train\":\n",
        "       dataset = dataset.shuffle(batch_size * 4)\n",
        "    dataset = dataset.batch(batch_size)\n",
        "    dataset = dataset.map(preprocess)\n",
        "    dataset = dataset.prefetch(tf.data.AUTOTUNE).cache()\n",
        "    return dataset"
      ]
    },
    {
      "cell_type": "code",
      "execution_count": null,
      "metadata": {
        "colab": {
          "base_uri": "https://localhost:8080/"
        },
        "id": "B5hUAd9AjY12",
        "outputId": "de78c363-104a-48f9-e27a-9a25b92e197c"
      },
      "outputs": [
        {
          "data": {
            "text/plain": [
              "((101119, 2), (17845, 2))"
            ]
          },
          "execution_count": 9,
          "metadata": {},
          "output_type": "execute_result"
        }
      ],
      "source": [
        "train, valid = train_test_split(data, test_size=config.validation_split, random_state=42)\n",
        "train.shape, valid.shape"
      ]
    },
    {
      "cell_type": "code",
      "execution_count": null,
      "metadata": {
        "id": "gCcP1ft6jYz7"
      },
      "outputs": [],
      "source": [
        "train_ds = make_dataset(train, batch_size=config.batch_size, mode=\"train\")\n",
        "valid_ds = make_dataset(valid, batch_size=config.batch_size, mode=\"valid\")"
      ]
    },
    {
      "cell_type": "code",
      "execution_count": null,
      "metadata": {
        "colab": {
          "base_uri": "https://localhost:8080/"
        },
        "id": "btkqzGOTjYyK",
        "outputId": "48f9114e-dcb5-4f2f-8fde-eab7d226780d"
      },
      "outputs": [
        {
          "name": "stdout",
          "output_type": "stream",
          "text": [
            "({'encoder_inputs': <tf.Tensor: shape=(256, 20), dtype=int64, numpy=\n",
            "array([[   9,  720,   10, ...,    0,    0,    0],\n",
            "       [   6, 1221,  264, ...,    0,    0,    0],\n",
            "       [  45,   33,   51, ...,    0,    0,    0],\n",
            "       ...,\n",
            "       [   3,  129,   13, ...,    0,    0,    0],\n",
            "       [  78,  160,  179, ...,    0,    0,    0],\n",
            "       [  46,   14,    7, ...,    0,    0,    0]], dtype=int64)>, 'decoder_inputs': <tf.Tensor: shape=(256, 20), dtype=int64, numpy=\n",
            "array([[   2,   20, 2952, ...,    0,    0,    0],\n",
            "       [   2,    8, 4894, ...,    0,    0,    0],\n",
            "       [   2,    7,   12, ...,    0,    0,    0],\n",
            "       ...,\n",
            "       [   2,  171,    5, ...,    0,    0,    0],\n",
            "       [   2, 4935,    4, ...,    0,    0,    0],\n",
            "       [   2,  104,   18, ...,    0,    0,    0]], dtype=int64)>}, <tf.Tensor: shape=(256, 20), dtype=int64, numpy=\n",
            "array([[  20, 2952,  144, ...,    0,    0,    0],\n",
            "       [   8, 4894,   10, ...,    0,    0,    0],\n",
            "       [   7,   12,   63, ...,    0,    0,    0],\n",
            "       ...,\n",
            "       [ 171,    5,   68, ...,    0,    0,    0],\n",
            "       [4935,    4,   36, ...,    0,    0,    0],\n",
            "       [ 104,   18,  852, ...,    0,    0,    0]], dtype=int64)>)\n"
          ]
        }
      ],
      "source": [
        "for batch in train_ds.take(1):\n",
        "    print(batch)"
      ]
    },
    {
      "cell_type": "code",
      "execution_count": null,
      "metadata": {
        "id": "-rakX-iIj55F"
      },
      "outputs": [],
      "source": [
        "class TransformerEncoder(layers.Layer):\n",
        "    def __init__(self, embed_dim, num_heads, ff_dim, rate=0.1, **kwargs):\n",
        "        super(TransformerEncoder, self).__init__(**kwargs)\n",
        "        self.att = keras.layers.MultiHeadAttention(\n",
        "            num_heads=num_heads, key_dim=embed_dim\n",
        "        )\n",
        "        self.ffn = keras.Sequential(\n",
        "            [\n",
        "                keras.layers.Dense(ff_dim, activation=\"relu\"),\n",
        "                keras.layers.Dense(embed_dim),\n",
        "            ]\n",
        "        )\n",
        "        self.layernorm1 = keras.layers.LayerNormalization(epsilon=1e-6)\n",
        "        self.layernorm2 = keras.layers.LayerNormalization(epsilon=1e-6)\n",
        "        self.dropout1 = keras.layers.Dropout(rate)\n",
        "        self.dropout2 = keras.layers.Dropout(rate)\n",
        "\n",
        "    def call(self, inputs, training=False):\n",
        "        attn_output = self.att(inputs, inputs)\n",
        "        attn_output = self.dropout1(attn_output, training=training)\n",
        "        out1 = self.layernorm1(inputs + attn_output)\n",
        "        ffn_output = self.ffn(out1)\n",
        "        ffn_output = self.dropout2(ffn_output, training=training)\n",
        "        return self.layernorm2(out1 + ffn_output)"
      ]
    },
    {
      "cell_type": "code",
      "execution_count": null,
      "metadata": {
        "id": "9Lcs_uegj5yk"
      },
      "outputs": [],
      "source": [
        "import tensorflow as tf\n",
        "from tensorflow.keras import layers\n",
        "\n",
        "class PositionalEmbedding(layers.Layer):\n",
        "    def __init__(self, sequence_length, vocab_size, embed_dim, **kwargs):\n",
        "        super(PositionalEmbedding, self).__init__(**kwargs)\n",
        "        self.token_embeddings = layers.Embedding(\n",
        "            input_dim=vocab_size,\n",
        "            output_dim=embed_dim,\n",
        "            mask_zero=True\n",
        "        )\n",
        "        self.position_embeddings = layers.Embedding(\n",
        "            input_dim=sequence_length,\n",
        "            output_dim=embed_dim,\n",
        "            mask_zero=True\n",
        "        )\n",
        "\n",
        "        self.sequence_length = sequence_length\n",
        "        self.vocab_size = vocab_size\n",
        "        self.embed_dim = embed_dim\n",
        "\n",
        "    def call(self, inputs):\n",
        "        embedded_tokens = self.token_embeddings(inputs)\n",
        "        positions = tf.range(start=0, limit=self.sequence_length, delta=1)\n",
        "        embedded_positions = self.position_embeddings(positions)\n",
        "        return embedded_tokens + embedded_positions\n",
        "\n",
        "    def compute_mask(self, inputs, mask=None):\n",
        "        mask = self.token_embeddings.compute_mask(inputs)\n",
        "        return mask\n"
      ]
    },
    {
      "cell_type": "code",
      "execution_count": null,
      "metadata": {
        "id": "oAR-Lp80j5wt"
      },
      "outputs": [],
      "source": [
        "class TransformerDecoder(layers.Layer):\n",
        "    def __init__(self, embed_dim, latent_dim, num_heads, **kwargs):\n",
        "        super(TransformerDecoder, self).__init__(**kwargs)\n",
        "        self.embed_dim = embed_dim\n",
        "        self.latent_dim = latent_dim\n",
        "        self.num_heads = num_heads\n",
        "        self.attention_1 = layers.MultiHeadAttention(\n",
        "            num_heads=num_heads,\n",
        "            key_dim=embed_dim\n",
        "        )\n",
        "        self.attention_2 = layers.MultiHeadAttention(\n",
        "            num_heads=num_heads,\n",
        "            key_dim=embed_dim\n",
        "        )\n",
        "        self.dense_proj = keras.Sequential([\n",
        "            layers.Dense(latent_dim, activation=\"relu\"),\n",
        "            layers.Dense(embed_dim),\n",
        "        ])\n",
        "        self.layernorm_1 = layers.LayerNormalization()\n",
        "        self.layernorm_2 = layers.LayerNormalization()\n",
        "        self.layernorm_3 = layers.LayerNormalization()\n",
        "        self.supports_masking = True\n",
        "\n",
        "    def call(self, inputs, encoder_outputs, mask = None):\n",
        "        causal_mask = self.get_causal_attention_mask(inputs)\n",
        "        padding_mask = None\n",
        "        if mask != None:\n",
        "            padding_mask = tf.cast(mask[:, tf.newaxis, :], dtype=\"int32\")\n",
        "            padding_mask = tf.minimum(padding_mask, causal_mask)\n",
        "        attention_output_1 = self.attention_1(\n",
        "            query=inputs,\n",
        "            value=inputs,\n",
        "            key=inputs,\n",
        "            attention_mask=causal_mask\n",
        "        )\n",
        "\n",
        "        out_1 = self.layernorm_1(inputs + attention_output_1)\n",
        "\n",
        "        attention_output_2 = self.attention_2(\n",
        "            query=out_1,\n",
        "            value=encoder_outputs,\n",
        "            key=encoder_outputs,\n",
        "            attention_mask=padding_mask\n",
        "        )\n",
        "\n",
        "        out_2 = self.layernorm_2(out_1 + attention_output_2)\n",
        "\n",
        "        proj_output = self.dense_proj(out_2)\n",
        "        out = self.layernorm_3(out_2 + proj_output)\n",
        "\n",
        "        return out\n",
        "\n",
        "    def get_causal_attention_mask(self, inputs):\n",
        "        input_shape = tf.shape(inputs)\n",
        "        batch_size, sequence_length = input_shape[0], input_shape[1]\n",
        "        i = tf.range(sequence_length)[:, tf.newaxis]\n",
        "        j = tf.range(sequence_length)\n",
        "        mask = tf.cast(i >= j, dtype=\"int32\")\n",
        "        mask = tf.reshape(mask, (1, input_shape[1], input_shape[1]))\n",
        "        mult = tf.concat(\n",
        "            [tf.expand_dims(batch_size, -1), tf.constant([1, 1], dtype=tf.int32)],\n",
        "            axis=0\n",
        "        )\n",
        "        return tf.tile(mask, mult)"
      ]
    },
    {
      "cell_type": "code",
      "execution_count": null,
      "metadata": {
        "colab": {
          "base_uri": "https://localhost:8080/",
          "height": 873
        },
        "id": "aWVyjUiqj5vB",
        "outputId": "799b73aa-e8b0-47ac-f353-a86583a36f13"
      },
      "outputs": [
        {
          "name": "stdout",
          "output_type": "stream",
          "text": [
            "Shape of encoder_inputs: (None, 20)\n",
            "Shape of positional_encoder_inputs: (None, 20, 256)\n",
            "Model: \"transformer\"\n",
            "__________________________________________________________________________________________________\n",
            " Layer (type)                   Output Shape         Param #     Connected to                     \n",
            "==================================================================================================\n",
            " encoder_inputs (InputLayer)    [(None, 20)]         0           []                               \n",
            "                                                                                                  \n",
            " positional_embedding (Position  (None, 20, 256)     4101120     ['encoder_inputs[0][0]']         \n",
            " alEmbedding)                                                                                     \n",
            "                                                                                                  \n",
            " decoder_inputs (InputLayer)    [(None, None)]       0           []                               \n",
            "                                                                                                  \n",
            " transformer_encoder (Transform  (None, 20, 256)     2236160     ['positional_embedding[0][0]']   \n",
            " erEncoder)                                                                                       \n",
            "                                                                                                  \n",
            " model_1 (Functional)           (None, 20, 16000)    12553344    ['decoder_inputs[0][0]',         \n",
            "                                                                  'transformer_encoder[0][0]']    \n",
            "                                                                                                  \n",
            "==================================================================================================\n",
            "Total params: 18,890,624\n",
            "Trainable params: 18,890,624\n",
            "Non-trainable params: 0\n",
            "__________________________________________________________________________________________________\n"
          ]
        },
        {
          "data": {
            "image/png": "[encoded data removed]",
            "text/plain": [
              "<IPython.core.display.Image object>"
            ]
          },
          "execution_count": 16,
          "metadata": {},
          "output_type": "execute_result"
        }
      ],
      "source": [
        "def edit_distance(y_true, y_pred):\n",
        "    y_true = tf.cast(y_true, tf.int32)\n",
        "    y_pred = tf.argmax(y_pred, axis=-1, output_type=y_true.dtype)\n",
        "    y_true_tensor =  tf.sparse.from_dense(\n",
        "        y_true\n",
        "    )\n",
        "    y_pred_tensor = tf.sparse.from_dense(\n",
        "        y_pred\n",
        "    )\n",
        "    metric = 1 - tf.edit_distance(y_true_tensor, y_pred_tensor, normalize=True)\n",
        "    return metric\n",
        "\n",
        "def get_transformer(config):\n",
        "    encoder_inputs = tf.keras.Input(shape=(config.sequence_length, ), name=\"encoder_inputs\")\n",
        "    print(\"Shape of encoder_inputs:\", encoder_inputs.shape)\n",
        "\n",
        "    x = PositionalEmbedding(config.sequence_length, config.vocab_size, config.embed_dim)(encoder_inputs)\n",
        "    print(\"Shape of positional_encoder_inputs:\", x.shape)\n",
        "    encoder_outputs = TransformerEncoder(config.embed_dim, config.num_heads, config.latent_dim)(x)\n",
        "    encoder = keras.Model(encoder_inputs, encoder_outputs)\n",
        "\n",
        "    decoder_inputs = keras.Input(shape=(None,), dtype=\"int64\", name=\"decoder_inputs\")\n",
        "    encoded_seq_inputs = keras.Input(shape=(None, config.embed_dim), name=\"decoder_state_inputs\")\n",
        "    x = PositionalEmbedding(config.sequence_length, config.vocab_size, config.embed_dim)(decoder_inputs)\n",
        "    x = TransformerDecoder(config.embed_dim, config.latent_dim, config.num_heads)(x, encoded_seq_inputs)\n",
        "    x = layers.Dropout(0.5)(x)\n",
        "    decoder_outputs = layers.Dense(config.vocab_size, activation=\"softmax\")(x)\n",
        "    decoder = keras.Model([decoder_inputs, encoded_seq_inputs], decoder_outputs)\n",
        "\n",
        "    decoder_outputs = decoder([decoder_inputs, encoder_outputs])\n",
        "    transformer = keras.Model(\n",
        "        [encoder_inputs, decoder_inputs], decoder_outputs, name=\"transformer\"\n",
        "    )\n",
        "    '''transformer.compile(\n",
        "        \"adam\", loss=\"sparse_categorical_crossentropy\", metrics=[\"accuracy\", edit_distance]\n",
        "    )'''\n",
        "    transformer.compile(\n",
        "        \"adam\", loss=\"sparse_categorical_crossentropy\", metrics=[\"accuracy\"]\n",
        "    )\n",
        "    return transformer\n",
        "transformer = get_transformer(config)\n",
        "transformer.summary()\n",
        "keras.utils.plot_model(transformer, show_shapes=True)"
      ]
    },
    {
      "cell_type": "code",
      "execution_count": null,
      "metadata": {
        "colab": {
          "background_save": true,
          "base_uri": "https://localhost:8080/"
        },
        "id": "NNUSf7iJj5tk",
        "outputId": "ecd30bf4-c698-4e18-d775-3f1f9c3efe81"
      },
      "outputs": [
        {
          "name": "stdout",
          "output_type": "stream",
          "text": [
            "Epoch 1/30\n",
            "395/395 [==============================] - 58s 129ms/step - loss: 1.5273 - accuracy: 0.4417 - val_loss: 1.0054 - val_accuracy: 0.5827\n",
            "Epoch 2/30\n",
            "395/395 [==============================] - 51s 129ms/step - loss: 0.8892 - accuracy: 0.6187 - val_loss: 0.7495 - val_accuracy: 0.6672\n",
            "Epoch 3/30\n",
            "395/395 [==============================] - 51s 130ms/step - loss: 0.6758 - accuracy: 0.6814 - val_loss: 0.6664 - val_accuracy: 0.6927\n",
            "Epoch 4/30\n",
            "395/395 [==============================] - 52s 131ms/step - loss: 0.5587 - accuracy: 0.7170 - val_loss: 0.6276 - val_accuracy: 0.7065\n",
            "Epoch 5/30\n",
            "395/395 [==============================] - 52s 131ms/step - loss: 0.4831 - accuracy: 0.7420 - val_loss: 0.6081 - val_accuracy: 0.7141\n",
            "Epoch 6/30\n",
            "395/395 [==============================] - 52s 132ms/step - loss: 0.4308 - accuracy: 0.7611 - val_loss: 0.6085 - val_accuracy: 0.7178\n",
            "Epoch 7/30\n",
            "395/395 [==============================] - 53s 134ms/step - loss: 0.3917 - accuracy: 0.7768 - val_loss: 0.6066 - val_accuracy: 0.7232\n",
            "Epoch 8/30\n",
            "395/395 [==============================] - 54s 137ms/step - loss: 0.3620 - accuracy: 0.7895 - val_loss: 0.6058 - val_accuracy: 0.7252\n",
            "Epoch 9/30\n",
            "395/395 [==============================] - 55s 140ms/step - loss: 0.3371 - accuracy: 0.8008 - val_loss: 0.6066 - val_accuracy: 0.7287\n",
            "Epoch 10/30\n",
            "395/395 [==============================] - 56s 141ms/step - loss: 0.3161 - accuracy: 0.8107 - val_loss: 0.6145 - val_accuracy: 0.7274\n",
            "Epoch 11/30\n",
            "395/395 [==============================] - 56s 142ms/step - loss: 0.2984 - accuracy: 0.8190 - val_loss: 0.6269 - val_accuracy: 0.7273\n",
            "Epoch 12/30\n",
            "395/395 [==============================] - 57s 143ms/step - loss: 0.2846 - accuracy: 0.8255 - val_loss: 0.6255 - val_accuracy: 0.7291\n",
            "Epoch 13/30\n",
            "395/395 [==============================] - 57s 144ms/step - loss: 0.2693 - accuracy: 0.8332 - val_loss: 0.6340 - val_accuracy: 0.7308\n",
            "Epoch 14/30\n",
            "395/395 [==============================] - 57s 144ms/step - loss: 0.2570 - accuracy: 0.8399 - val_loss: 0.6409 - val_accuracy: 0.7298\n",
            "Epoch 15/30\n",
            "395/395 [==============================] - 57s 144ms/step - loss: 0.2464 - accuracy: 0.8449 - val_loss: 0.6517 - val_accuracy: 0.7306\n",
            "Epoch 16/30\n",
            "395/395 [==============================] - 57s 144ms/step - loss: 0.2373 - accuracy: 0.8497 - val_loss: 0.6575 - val_accuracy: 0.7292\n",
            "Epoch 17/30\n",
            "395/395 [==============================] - 56s 141ms/step - loss: 0.2278 - accuracy: 0.8545 - val_loss: 0.6686 - val_accuracy: 0.7299\n",
            "Epoch 18/30\n",
            "395/395 [==============================] - 53s 133ms/step - loss: 0.2206 - accuracy: 0.8583 - val_loss: 0.6872 - val_accuracy: 0.7285\n",
            "Epoch 19/30\n",
            "395/395 [==============================] - 52s 132ms/step - loss: 0.2138 - accuracy: 0.8616 - val_loss: 0.6857 - val_accuracy: 0.7283\n",
            "Epoch 20/30\n",
            "395/395 [==============================] - 52s 132ms/step - loss: 0.2065 - accuracy: 0.8652 - val_loss: 0.6918 - val_accuracy: 0.7286\n",
            "Epoch 21/30\n",
            "395/395 [==============================] - 52s 132ms/step - loss: 0.2003 - accuracy: 0.8690 - val_loss: 0.7003 - val_accuracy: 0.7302\n",
            "Epoch 22/30\n",
            "395/395 [==============================] - 52s 132ms/step - loss: 0.1946 - accuracy: 0.8718 - val_loss: 0.7108 - val_accuracy: 0.7300\n",
            "Epoch 23/30\n",
            "395/395 [==============================] - 52s 132ms/step - loss: 0.1888 - accuracy: 0.8753 - val_loss: 0.7171 - val_accuracy: 0.7280\n",
            "Epoch 24/30\n",
            "395/395 [==============================] - 52s 132ms/step - loss: 0.1844 - accuracy: 0.8776 - val_loss: 0.7218 - val_accuracy: 0.7288\n",
            "Epoch 25/30\n",
            "395/395 [==============================] - 52s 132ms/step - loss: 0.1803 - accuracy: 0.8801 - val_loss: 0.7368 - val_accuracy: 0.7280\n",
            "Epoch 26/30\n",
            "395/395 [==============================] - 52s 132ms/step - loss: 0.1748 - accuracy: 0.8831 - val_loss: 0.7376 - val_accuracy: 0.7283\n",
            "Epoch 27/30\n",
            "395/395 [==============================] - 52s 132ms/step - loss: 0.1707 - accuracy: 0.8855 - val_loss: 0.7482 - val_accuracy: 0.7292\n",
            "Epoch 28/30\n",
            "395/395 [==============================] - 52s 133ms/step - loss: 0.1673 - accuracy: 0.8878 - val_loss: 0.7555 - val_accuracy: 0.7287\n",
            "Epoch 29/30\n",
            "395/395 [==============================] - 53s 133ms/step - loss: 0.1633 - accuracy: 0.8895 - val_loss: 0.7630 - val_accuracy: 0.7283\n",
            "Epoch 30/30\n",
            "395/395 [==============================] - 52s 132ms/step - loss: 0.1602 - accuracy: 0.8914 - val_loss: 0.7700 - val_accuracy: 0.7290\n"
          ]
        },
        {
          "data": {
            "text/plain": [
              "<keras.callbacks.History at 0x13f62ad5730>"
            ]
          },
          "execution_count": 17,
          "metadata": {},
          "output_type": "execute_result"
        }
      ],
      "source": [
        "transformer.fit(train_ds, epochs=config.epochs, validation_data=valid_ds)\n"
      ]
    },
    {
      "cell_type": "code",
      "execution_count": null,
      "metadata": {
        "id": "VH6KWhWYj5rw",
        "outputId": "0db9ee24-4e55-4b06-8e14-9bb004fa6028"
      },
      "outputs": [
        {
          "name": "stdout",
          "output_type": "stream",
          "text": [
            "70/70 [==============================] - 4s 59ms/step - loss: 0.7700 - accuracy: 0.7290\n"
          ]
        },
        {
          "data": {
            "text/plain": [
              "[0.7700448632240295, 0.7290061712265015]"
            ]
          },
          "execution_count": 18,
          "metadata": {},
          "output_type": "execute_result"
        }
      ],
      "source": [
        "transformer.evaluate(valid_ds)"
      ]
    },
    {
      "cell_type": "code",
      "execution_count": null,
      "metadata": {
        "id": "rrLscbhJj5pv"
      },
      "outputs": [],
      "source": [
        "spanish_vocab = spanish_vectorization.get_vocabulary()\n",
        "spanish_index_lookup = dict(zip(range(len(spanish_vocab)), spanish_vocab))\n",
        "def remove_start_and_end_token(sentence):\n",
        "    return sentence.replace(\"[start] \", \"\").replace(\" [end]\", \"\")\n",
        "def decode_sequence(transformer, input_sentence):\n",
        "    tokenized_input_sentence = english_vectorization([input_sentence])\n",
        "    decoded_sentence = \"[start]\"\n",
        "    for i in range(config.sequence_length):\n",
        "        tokenized_target_sentence = spanish_vectorization([decoded_sentence])[:, :-1]\n",
        "        predictions = transformer([tokenized_input_sentence, tokenized_target_sentence])\n",
        "\n",
        "        sampled_token_index = np.argmax(predictions[0, i, :])\n",
        "        sampled_token = spanish_index_lookup[sampled_token_index]\n",
        "        decoded_sentence += \" \" + sampled_token\n",
        "\n",
        "        if sampled_token == \"[end]\":\n",
        "            break\n",
        "    return remove_start_and_end_token(decoded_sentence)"
      ]
    },
    {
      "cell_type": "code",
      "execution_count": null,
      "metadata": {
        "id": "MQvldmJgkIvB",
        "outputId": "e40fb66a-ba2e-4639-d495-96791224c52e"
      },
      "outputs": [
        {
          "name": "stdout",
          "output_type": "stream",
          "text": [
            "English: I bought all of these televisions.\n",
            "Spanish: Compré todos esos televisores.\n",
            "Translated: compré toda éstos de estos cálculos\n",
            "English: Sorry, I don't follow.\n",
            "Spanish: Perdón, pero no entiendo.\n",
            "Translated: perdón no sigamos\n",
            "English: That could've been prevented.\n",
            "Spanish: Eso pudo haber sido prevenido.\n",
            "Translated: eso podría haber sido prevenido\n",
            "English: The explorers discovered a skeleton in the cave.\n",
            "Spanish: Los exploradores descubrieron un esqueleto en la cueva.\n",
            "Translated: los exploradores descubrieron un esqueleto en la cueva\n",
            "English: She left the baby crying.\n",
            "Spanish: Ella dejó al bebé llorando.\n",
            "Translated: ella dejó al bebé llorando\n",
            "English: Which one do you want?\n",
            "Spanish: ¿Cuál quieres?\n",
            "Translated: cuál quieres\n",
            "English: Tom doesn't like to travel.\n",
            "Spanish: A Tom no le gusta viajar.\n",
            "Translated: a tom no le gusta viajar\n",
            "English: Do you know the girl standing by the window?\n",
            "Spanish: ¿Conoces a la niña que está parada junto a la ventana?\n",
            "Translated: conoces a la chica que está ahí parado por la ventana\n",
            "English: I'm bored and don't know what to do.\n",
            "Spanish: Me aburro y no sé qué hacer.\n",
            "Translated: me [UNK] y no sé qué hacer\n",
            "English: I thought you wanted a divorce.\n",
            "Spanish: Pensé que querías el divorcio.\n",
            "Translated: pensé que querías el divorcio\n",
            "English: Put aside those fears.\n",
            "Spanish: Deseche usted esos temores.\n",
            "Translated: [UNK] algunos temen\n",
            "English: Tom doesn't know how to be quiet.\n",
            "Spanish: Tom no sabe quedarse callado.\n",
            "Translated: tom no sabe quedarse callado\n",
            "English: Tom couldn't ask for more.\n",
            "Spanish: Tom no podía pedir más.\n",
            "Translated: tom no podía pedirle que se [UNK] más\n",
            "English: Someday you should give it a try.\n",
            "Spanish: Algún día deberías intentarlo.\n",
            "Translated: algún día deberías darle una oportunidad\n",
            "English: The law is clear.\n",
            "Spanish: La ley es clara.\n",
            "Translated: la ley es clara\n",
            "English: I often have nightmares.\n",
            "Spanish: A menudo tengo pesadillas.\n",
            "Translated: a menudo tengo pesadillas\n",
            "English: What's the best drug for that cancer?\n",
            "Spanish: ¿Cuál es la mejor medicina para el cáncer?\n",
            "Translated: cuál es la mejor medicina para el cáncer\n",
            "English: I went home to change my clothes.\n",
            "Spanish: Me fui a casa a cambiarme de ropa.\n",
            "Translated: me fui a casa a cambiarme de ropa\n",
            "English: Unfortunately, Tom was in the wrong place at the wrong time.\n",
            "Spanish: Desafortunadamente, Tom estaba a la hora equivocada en el lugar equivocado.\n",
            "Translated: desafortunadamente tom estaba en el lugar equivocado a la hora equivocada\n",
            "English: They lived a happy life.\n",
            "Spanish: Tuvieron una vida feliz.\n",
            "Translated: ellos vivieron una vida feliz\n",
            "English: Ask Tom how Mary is.\n",
            "Spanish: Pregúntale a Tom cómo está Mary.\n",
            "Translated: pregúntale a tom mary\n",
            "English: Tom passed away three years ago.\n",
            "Spanish: Tom falleció tres años atrás.\n",
            "Translated: tom murió hace tres años\n",
            "English: Why have you been ignoring me?\n",
            "Spanish: ¿Por qué me has estado ignorando?\n",
            "Translated: por qué me has estado ignorando\n",
            "English: This book is too difficult for me to understand.\n",
            "Spanish: Es muy difícil para mí entender este libro.\n",
            "Translated: este libro es muy difícil para que lo entienda\n",
            "English: I felt alone.\n",
            "Spanish: Me sentía solo.\n",
            "Translated: yo sentí solo\n",
            "English: I'm free.\n",
            "Spanish: Yo soy libre.\n",
            "Translated: soy libre\n",
            "English: You're not expected to do anything we wouldn't do ourselves.\n",
            "Spanish: No hace falta que hagas lo que nosotros no haríamos.\n",
            "Translated: no se esperaba hacer nada que nosotros no nos hagamos hagamos\n",
            "English: Tom will change.\n",
            "Spanish: Tom va a cambiar.\n",
            "Translated: tom va a cambiar\n",
            "English: The soup's very hot.\n",
            "Spanish: La sopa está muy caliente.\n",
            "Translated: la sopa está muy caliente\n",
            "English: This is my bicycle.\n",
            "Spanish: Es mi bicicleta.\n",
            "Translated: esta es mi bicicleta\n",
            "English: You're useless.\n",
            "Spanish: No servís para nada.\n",
            "Translated: sos un cero a la izquierda\n",
            "English: This is my first time, so I'm a little nervous.\n",
            "Spanish: Esta es mi primera vez, así que estoy un poco nervioso.\n",
            "Translated: esta es mi primera vez en tanto tiempo como un poco nerviosa\n",
            "English: Tom adores Mary.\n",
            "Spanish: Tom adora a Mary.\n",
            "Translated: tom adora a mary\n",
            "English: Keep running.\n",
            "Spanish: Seguí corriendo.\n",
            "Translated: sigue corriendo\n",
            "English: Guess what I want to do.\n",
            "Spanish: Adivina lo que quiero hacer.\n",
            "Translated: adivina lo que quiero hacer\n",
            "English: I heard that you're not coming.\n",
            "Spanish: He oído que no vienes.\n",
            "Translated: oí que no vienes\n",
            "English: Did you understand the moral of this story?\n",
            "Spanish: ¿Entendiste la moraleja de la historia?\n",
            "Translated: entendiste la [UNK] de la historia\n",
            "English: Lock the window before going to bed.\n",
            "Spanish: Ponle llave a la ventana antes de acostarte.\n",
            "Translated: cierra la ventana antes de acostarte\n",
            "English: She is easygoing.\n",
            "Spanish: Ella es agradable.\n",
            "Translated: ella es agradable\n",
            "English: That bicycle isn't Tom's.\n",
            "Spanish: Esa bicicleta no es la de Tom.\n",
            "Translated: esa bicicleta no es de tom\n",
            "English: Did you already brush your teeth?\n",
            "Spanish: ¿Ya te limpiaste los dientes?\n",
            "Translated: ya te [UNK] los dientes\n",
            "English: Don't throw away a good opportunity.\n",
            "Spanish: No dejes pasar una buena oportunidad.\n",
            "Translated: no [UNK] una buena oportunidad\n",
            "English: I can't stand that guy.\n",
            "Spanish: No aguanto a este tío.\n",
            "Translated: no aguanto a este tío\n",
            "English: I was told you were reliable.\n",
            "Spanish: Me dijeron que eras de fiar.\n",
            "Translated: me dijeron que eras [UNK]\n",
            "English: Would you like to be considered for the job?\n",
            "Spanish: ¿Le gustaría que se le considerase para el trabajo?\n",
            "Translated: te gustaría tener el considerado por el trabajo\n",
            "English: He took a picture of the beautiful landscape.\n",
            "Spanish: Tomó una foto del precioso paisaje.\n",
            "Translated: tomó una foto del precioso paisaje\n",
            "English: Having a slight cold, I went to bed early.\n",
            "Spanish: Como estaba un poco resfriado, me fui a la cama pronto.\n",
            "Translated: como estaba un poco resfriado me fui a la cama temprano\n",
            "English: Tom arrived by car.\n",
            "Spanish: Tom vino en auto.\n",
            "Translated: tom llegó a auto\n",
            "English: I owe you a big one for getting me out of the jam.\n",
            "Spanish: Te debo una muy grande por sacarme del apuro.\n",
            "Translated: te debo una gran cantidad de conseguí la cabeza para la operación\n",
            "English: I probably won't watch this.\n",
            "Spanish: No creo que lo vea.\n",
            "Translated: probablemente no voy a ver esto\n",
            "English: Please translate this into French.\n",
            "Spanish: Traducí esto al francés, por favor.\n",
            "Translated: por favor [UNK] esto en francés\n",
            "English: Tom isn't self employed.\n",
            "Spanish: Tom no es un trabajador autónomo.\n",
            "Translated: tom no trabaja por su cuenta\n",
            "English: Tom hasn't painted his house yet.\n",
            "Spanish: Tom no ha pintado su casa aún.\n",
            "Translated: tom no ha pintado su casa aún\n",
            "English: I did speak, but no one listened to me.\n",
            "Spanish: Yo sí hablé, pero nadie me escuchó.\n",
            "Translated: yo hice hablar pero no me escuchó\n",
            "English: I acted as interpreter at the meeting.\n",
            "Spanish: Hice de intérprete en la reunión.\n",
            "Translated: me [UNK] como intérprete en la reunión\n",
            "English: Please don't write letters to me anymore.\n",
            "Spanish: Por favor no me escribas cartas nunca más.\n",
            "Translated: por favor no escriba cartas conmigo\n",
            "English: I don't remember what happened anymore.\n",
            "Spanish: Ya no recuerdo qué ocurrió.\n",
            "Translated: ya no recuerdo lo más pasado\n",
            "English: How did Tom meet Mary?\n",
            "Spanish: ¿Cómo conoció Tom a María?\n",
            "Translated: cómo conoció tom a mary\n",
            "English: He slipped while crossing the street.\n",
            "Spanish: Él se resbaló mientras cruzaba la calle.\n",
            "Translated: Él se resbaló mientras cruzaba la calle\n",
            "English: It can only get worse.\n",
            "Spanish: Sólo puede ir a peor.\n",
            "Translated: solo puede ir a peor\n",
            "English: The detective disguised himself as an old gentleman.\n",
            "Spanish: El detective se disfrazó de viejo caballero.\n",
            "Translated: el detective se disfrazó de viejo caballero\n",
            "English: Don't let him listen to this music.\n",
            "Spanish: No lo dejes escuchar esta música.\n",
            "Translated: no lo dejes escuchar esta música\n",
            "English: How did you come by such a large sum of money?\n",
            "Spanish: ¿Cómo conseguiste una suma tan grande de dinero?\n",
            "Translated: cómo conseguiste una suma tan grande de dinero\n",
            "English: I don't envy him.\n",
            "Spanish: No le envidio.\n",
            "Translated: no le envidio\n",
            "English: I thought a lot about what you said.\n",
            "Spanish: Pensé mucho en lo que dijiste.\n",
            "Translated: pensé mucho en lo que dijiste\n",
            "English: That's how it was.\n",
            "Spanish: Así es como era.\n",
            "Translated: así es como él\n",
            "English: You've got my computer and I want it back.\n",
            "Spanish: Tú tienes mi computador y lo quiero de vuelta.\n",
            "Translated: tienes mi computador y lo quiero de vuelta\n",
            "English: I really hate dairy products.\n",
            "Spanish: Yo realmente odio los productos lácteos.\n",
            "Translated: realmente odio los productos lácteos\n",
            "English: Practice is the only way to master foreign languages.\n",
            "Spanish: La práctica es el único método que hay para dominar una lengua extranjera.\n",
            "Translated: la práctica es el único método que hay para dominar una lengua extranjera\n",
            "English: Who's first?\n",
            "Spanish: ¿Quién va primero?\n",
            "Translated: quién es el primero\n",
            "English: Tom vanished.\n",
            "Spanish: Tomás desapareció.\n",
            "Translated: tomás desapareció\n",
            "English: I spent the whole day reading a novel.\n",
            "Spanish: Me pasé todo el día leyendo una novela.\n",
            "Translated: me pasé todo el día leyendo una novela\n",
            "English: Tom was wounded in a burglary.\n",
            "Spanish: Tom fue herido en un robo.\n",
            "Translated: tom fue herido en un robo\n",
            "English: Who brought this?\n",
            "Spanish: ¿Quién trajo esto?\n",
            "Translated: quién trajo esto\n",
            "English: Tom's family was there, too.\n",
            "Spanish: La familia de Tom también estaba allí.\n",
            "Translated: la familia de tom también estaba allí\n",
            "English: He'll get well soon.\n",
            "Spanish: Él se mejorará pronto.\n",
            "Translated: Él se mejorará pronto\n",
            "English: Tom didn't see you.\n",
            "Spanish: Tom no te vio.\n",
            "Translated: tom no te vio\n",
            "English: Do you work on Sundays?\n",
            "Spanish: ¿Trabajas los domingos?\n",
            "Translated: trabajas los domingos\n",
            "English: I borrowed money from my father.\n",
            "Spanish: Tomé dinero prestado de mi padre.\n",
            "Translated: le pedí prestado dinero a mi padre\n",
            "English: I bet you didn't know that.\n",
            "Spanish: Estoy seguro de que no lo sabías.\n",
            "Translated: apuesto a que no conoces eso\n",
            "English: Tom and Mary got married in 2013.\n",
            "Spanish: Tom y Mary se casaron en el 2013.\n",
            "Translated: tom y mary se casaron en el 2013\n",
            "English: You need not go there.\n",
            "Spanish: No necesitas ir ahí.\n",
            "Translated: no necesitas ir ahí\n",
            "English: She wants him.\n",
            "Spanish: Ella lo desea a él.\n",
            "Translated: ella lo quiere\n",
            "English: Give it back to me!\n",
            "Spanish: ¡Devuélvemelo!\n",
            "Translated: ¡devuélvemelo\n",
            "English: I prefer this version.\n",
            "Spanish: Yo prefiero esta versión.\n",
            "Translated: yo prefiero esta versión\n",
            "English: I don't mind the cold, but I can't stand the heat.\n",
            "Spanish: Me da igual el frío, pero no soporto el calor.\n",
            "Translated: no me importa la hacía frío pero no soporto el calor\n",
            "English: Can you wrap it up for me? It's a gift.\n",
            "Spanish: ¿Puede envolvérmelo para regalo?\n",
            "Translated: puede envolvérmelo por regalo\n",
            "English: Are you going to record today's episode?\n",
            "Spanish: ¿Vas a grabar el capítulo de hoy?\n",
            "Translated: vas a grabar el capítulo de hoy\n",
            "English: Tom decided not to go to Boston.\n",
            "Spanish: Tom decidió no ir a Boston.\n",
            "Translated: tom decidió no ir a boston\n",
            "English: Tom takes online courses.\n",
            "Spanish: Tom toma clases en línea.\n",
            "Translated: tom toma clases de conectado\n",
            "English: I don't know if he is a doctor.\n",
            "Spanish: No se si él es médico.\n",
            "Translated: no sé si es médico\n",
            "English: Tom will finish serving his sentence next month.\n",
            "Spanish: Tom terminará de cumplir su sentencia el próximo mes.\n",
            "Translated: tom terminará de cumplir su sentencia el próximo mes\n",
            "English: Tom may have done that already.\n",
            "Spanish: Puede que Tom ya lo haya hecho.\n",
            "Translated: tom puede haber hecho eso ya\n",
            "English: They kept their love a secret.\n",
            "Spanish: Ellos mantuvieron su amor en secreto.\n",
            "Translated: ellos mantuvieron su amor en secreto\n",
            "English: Do either of you need anything?\n",
            "Spanish: ¿Alguno de vosotros necesita algo?\n",
            "Translated: alguno de vosotros necesita algo\n",
            "English: I'm waiting for him.\n",
            "Spanish: Le estoy esperando a él.\n",
            "Translated: estoy esperando a él\n",
            "English: That's a very difficult question.\n",
            "Spanish: Esa es una pregunta muy difícil.\n",
            "Translated: esa es una muy difícil\n",
            "English: It'd be better if you would come with me.\n",
            "Spanish: Sería mejor si vinieras conmigo.\n",
            "Translated: sería mejor si vinieras conmigo\n",
            "English: Won't you have some more coffee?\n",
            "Spanish: ¿No quiere más café?\n",
            "Translated: no te vas a servir un poco más de café\n",
            "English: Do you like rap?\n",
            "Spanish: ¿Te gusta el rap?\n",
            "Translated: te gusta el [UNK]\n"
          ]
        }
      ],
      "source": [
        "reference_sentences =[]\n",
        "decoded_sentences = []  # list of decoded Spanish sentences\n",
        "for i in np.random.choice(len(data), 100):\n",
        "    item = data.iloc[i]\n",
        "    translated = decode_sequence(transformer, item[\"english\"])\n",
        "    print(\"English:\", remove_start_and_end_token(item[\"english\"]))\n",
        "    print(\"Spanish:\", remove_start_and_end_token(item[\"spanish\"]))\n",
        "    print(\"Translated:\", translated)\n",
        "    reference_sentences.append(remove_start_and_end_token(item[\"spanish\"]))\n",
        "    decoded_sentences.append(translated)"
      ]
    },
    {
      "cell_type": "code",
      "execution_count": null,
      "metadata": {
        "id": "yXaAnVWDsDSM",
        "outputId": "d90b483e-e955-4456-844b-ed99d71d040e"
      },
      "outputs": [
        {
          "name": "stdout",
          "output_type": "stream",
          "text": [
            "Corpus BLEU score: 75.36\n"
          ]
        }
      ],
      "source": [
        "import nltk\n",
        "from nltk.translate.bleu_score import sentence_bleu, SmoothingFunction, corpus_bleu\n",
        "corpus_score = corpus_bleu([[ref] for ref in reference_sentences], decoded_sentences)\n",
        "print(f\"Corpus BLEU score: {corpus_score*100:.2f}\")"
      ]
    }
  ],
  "metadata": {
    "colab": {
      "provenance": [],
      "include_colab_link": true
    },
    "kernelspec": {
      "display_name": "Python 3 (ipykernel)",
      "language": "python",
      "name": "python3"
    },
    "language_info": {
      "codemirror_mode": {
        "name": "ipython",
        "version": 3
      },
      "file_extension": ".py",
      "mimetype": "text/x-python",
      "name": "python",
      "nbconvert_exporter": "python",
      "pygments_lexer": "ipython3",
      "version": "3.9.19"
    }
  },
  "nbformat": 4,
  "nbformat_minor": 0
}